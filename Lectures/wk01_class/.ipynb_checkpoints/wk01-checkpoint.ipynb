{
 "cells": [
  {
   "cell_type": "markdown",
   "id": "8a87fbec-8fa8-4fa8-8005-86f55fb837b8",
   "metadata": {},
   "source": [
    "# This is my first notebook\n",
    "## This is the subheading\n",
    "### Some boring text"
   ]
  },
  {
   "cell_type": "code",
   "execution_count": null,
   "id": "c3131224-570d-4429-acd3-376e4317d24c",
   "metadata": {},
   "outputs": [],
   "source": [
    "print(\"Hello World\");"
   ]
  },
  {
   "cell_type": "code",
   "execution_count": null,
   "id": "92225e56-94a5-4ea6-ad50-f23bf618122f",
   "metadata": {},
   "outputs": [],
   "source": [
    "name_first = \"Sidharth\"\n",
    "name_last = \"Grover\"\n",
    "\n",
    "print(name_first)\n",
    "print(\"Woahhh\")\n",
    "\n",
    "for x in name_first:\n",
    "    print(x);"
   ]
  },
  {
   "cell_type": "code",
   "execution_count": null,
   "id": "00c9041c-47e3-4343-bc8c-e24fed1b5a70",
   "metadata": {},
   "outputs": [],
   "source": [
    "name_full = name_first+ ''+ name_last\n",
    "print(name_full);\n"
   ]
  },
  {
   "cell_type": "code",
   "execution_count": null,
   "id": "da3848ee-c527-4dbe-bd6a-9f0389b19c45",
   "metadata": {},
   "outputs": [],
   "source": []
  },
  {
   "cell_type": "code",
   "execution_count": null,
   "id": "c15fbbba-9130-4666-81d3-89ae61e78039",
   "metadata": {},
   "outputs": [],
   "source": []
  }
 ],
 "metadata": {
  "kernelspec": {
   "display_name": "Python 3 (ipykernel)",
   "language": "python",
   "name": "python3"
  },
  "language_info": {
   "codemirror_mode": {
    "name": "ipython",
    "version": 3
   },
   "file_extension": ".py",
   "mimetype": "text/x-python",
   "name": "python",
   "nbconvert_exporter": "python",
   "pygments_lexer": "ipython3",
   "version": "3.10.5"
  }
 },
 "nbformat": 4,
 "nbformat_minor": 5
}
