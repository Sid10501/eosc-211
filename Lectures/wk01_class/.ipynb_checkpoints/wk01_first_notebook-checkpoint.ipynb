{
 "cells": [
  {
   "cell_type": "markdown",
   "id": "1fd276d2-efd3-4f0f-9633-9bee1c908ae0",
   "metadata": {},
   "source": [
    "# Notebook for EOSC211:  Week 1, Class 1"
   ]
  },
  {
   "cell_type": "markdown",
   "id": "a5728c65-d891-4801-b41c-fc78f090c38d",
   "metadata": {},
   "source": [
    "# Introduction to strings and printing"
   ]
  },
  {
   "cell_type": "code",
   "execution_count": 1,
   "id": "350aaa25-4418-4f05-b232-0b254e50f158",
   "metadata": {},
   "outputs": [
    {
     "name": "stdout",
     "output_type": "stream",
     "text": [
      "Welcome to EOSC 211\n"
     ]
    }
   ],
   "source": [
    "print(\"Welcome to EOSC 211\")"
   ]
  },
  {
   "cell_type": "code",
   "execution_count": 2,
   "id": "0247849a-58d9-4eb6-8fc0-229d5f433676",
   "metadata": {},
   "outputs": [],
   "source": [
    "# Assign my first variables: the \"#\" makes this a comment line\n",
    "name_first = \"Catherine\"   # making a string variable and assigning \"Catherine\" to it\n",
    "name_last = \"Johnson\""
   ]
  },
  {
   "cell_type": "code",
   "execution_count": 3,
   "id": "a3ab4ae1-7863-4c18-ab9a-298b64b98a5a",
   "metadata": {},
   "outputs": [
    {
     "name": "stdout",
     "output_type": "stream",
     "text": [
      "Catherine\n",
      "My first name is Catherine\n",
      "My first name is Catherine\n"
     ]
    }
   ],
   "source": [
    "# Practice with printing\n",
    "print(name_first)     # simple printing\n",
    "print(\"My first name is\", name_first)   # simple printing concatenating two strings to give more info about what I am printing\n",
    "print(f\"My first name is {name_first}\")   # similar thing but using formatted printing, the variable name goes in the {}"
   ]
  },
  {
   "cell_type": "code",
   "execution_count": 4,
   "id": "cbc6bee9-ff0a-4f40-8e4e-78743bd0b40e",
   "metadata": {},
   "outputs": [
    {
     "name": "stdout",
     "output_type": "stream",
     "text": [
      "CatherineJohnson\n",
      "Catherine Johnson\n"
     ]
    }
   ],
   "source": [
    "# concatenate my strings\n",
    "name_full = name_first+name_last\n",
    "print(name_full)\n",
    "\n",
    "name_full = name_first+\" \"+name_last   # add the space between the names\n",
    "print(name_full)"
   ]
  },
  {
   "cell_type": "code",
   "execution_count": 5,
   "id": "55883045-66b9-45fe-8040-d9b680da99a2",
   "metadata": {},
   "outputs": [
    {
     "name": "stdout",
     "output_type": "stream",
     "text": [
      "My last name is Jellinek\n"
     ]
    }
   ],
   "source": [
    "# Changing my last name\n",
    "name_last = \"Jellinek\"   # assigns \"Jellinek\" to the variable name_last, replacing \"Johnson\"\n",
    "print(f\"My last name is {name_last}\")  # formatted printing     # formatted printing"
   ]
  },
  {
   "cell_type": "code",
   "execution_count": 6,
   "id": "b69e2d37-0a97-46b0-8244-c06f7a1fa76e",
   "metadata": {},
   "outputs": [
    {
     "name": "stdout",
     "output_type": "stream",
     "text": [
      "Catherine Johnson\n"
     ]
    }
   ],
   "source": [
    "# print the variable `name_full` again\n",
    "print(name_full)     # what do you think this will print to the screen and why?"
   ]
  },
  {
   "cell_type": "markdown",
   "id": "411be313-ec76-4b40-b4c6-f71b49c658c1",
   "metadata": {},
   "source": [
    "# First practice with floats and ints"
   ]
  },
  {
   "cell_type": "code",
   "execution_count": 7,
   "id": "5f15fcdd-c864-45b6-8127-4e4c821d8ff6",
   "metadata": {},
   "outputs": [],
   "source": [
    "a = 1\n",
    "b = 2.\n",
    "c = a/b\n",
    "d = 2*a"
   ]
  },
  {
   "cell_type": "code",
   "execution_count": 8,
   "id": "4e873801-723e-45f9-9e14-60f010d59027",
   "metadata": {},
   "outputs": [
    {
     "name": "stdout",
     "output_type": "stream",
     "text": [
      "Values: a = 1, b = 2.0, c = 0.5, d = 2\n",
      "Data Types: a = <class 'int'>, b = <class 'float'>, c = <class 'float'>, d = <class 'int'>\n",
      "name_full has type <class 'str'>\n"
     ]
    }
   ],
   "source": [
    "# print the values and data types\n",
    "print(f\"Values: a = {a}, b = {b}, c = {c}, d = {d}\")\n",
    "print(f\"Data Types: a = {type(a)}, b = {type(b)}, c = {type(c)}, d = {type(d)}\")\n",
    "\n",
    "# and from earlier\n",
    "print(f\"name_full has type {type(name_full)}\")"
   ]
  },
  {
   "cell_type": "code",
   "execution_count": 9,
   "id": "f21a49d0-8f3c-4ebc-9dc3-2d51b0eeb10a",
   "metadata": {},
   "outputs": [
    {
     "name": "stdout",
     "output_type": "stream",
     "text": [
      "3.0 -1.0 1.0\n"
     ]
    }
   ],
   "source": [
    "e = a + b\n",
    "f = a - b\n",
    "g = c*b\n",
    "\n",
    "print(e,f,g)     # lazy simple printing, discuss types of each"
   ]
  },
  {
   "cell_type": "code",
   "execution_count": 10,
   "id": "7a40ca41-b575-438b-9cd3-69a67574fc30",
   "metadata": {},
   "outputs": [],
   "source": [
    "mypi = 3.141592   # defining pi\n",
    "\n",
    "# what happens if I just try to use pi?  e.g. try `area = pi` <-- motivating NumPy"
   ]
  },
  {
   "cell_type": "code",
   "execution_count": 11,
   "id": "d0e28278-c4e3-4f9d-93bc-678c1d77fa6b",
   "metadata": {},
   "outputs": [
    {
     "name": "stdout",
     "output_type": "stream",
     "text": [
      "The ultimate answer to life, the universe and everything has type <class 'int'>\n"
     ]
    }
   ],
   "source": [
    "# More with types\n",
    "ult_ans = 42\n",
    "print(f\"The ultimate answer to life, the universe and everything has type {type(ult_ans)}\")"
   ]
  },
  {
   "cell_type": "code",
   "execution_count": 12,
   "id": "54f12153-f04e-4d0d-823b-855c7de7b31d",
   "metadata": {},
   "outputs": [
    {
     "name": "stdout",
     "output_type": "stream",
     "text": [
      "should it have been a float (maybe) or a string (nah)?\n",
      "ult_flt has type <class 'float'>\n",
      "ult_str has type <class 'str'>\n"
     ]
    }
   ],
   "source": [
    "print(f\"should it have been a float (maybe) or a string (nah)?\")\n",
    "\n",
    "ult_flt = float(ult_ans)\n",
    "ult_str = str(ult_ans)\n",
    "\n",
    "print(f\"ult_flt has type {type(ult_flt)}\")\n",
    "print(f\"ult_str has type {type(ult_str)}\")"
   ]
  },
  {
   "cell_type": "markdown",
   "id": "3bfae343-3991-41a3-8375-c8ecb6078777",
   "metadata": {},
   "source": [
    "# First practice with Boolean (True/False) variable"
   ]
  },
  {
   "cell_type": "code",
   "execution_count": 13,
   "id": "91fdac18-ef8f-4ec3-99b3-1ba3cf5ed3b8",
   "metadata": {},
   "outputs": [
    {
     "name": "stdout",
     "output_type": "stream",
     "text": [
      "It is False that my last name is Jellinek\n"
     ]
    }
   ],
   "source": [
    "# Change my last name back again and ask whether it is Jellinek?\n",
    "# What has happened here?\n",
    "name_last = \"Johnson\"\n",
    "mylastname_test = name_last == \"Jellinek\"   # discuss difference of \"==\" and \"=\"\n",
    "print(\"It is\", mylastname_test, \"that my last name is Jellinek\")"
   ]
  },
  {
   "cell_type": "markdown",
   "id": "7dbc80ec-9245-4486-8277-a53e4512d3a4",
   "metadata": {},
   "source": [
    "# First playing around with lists \n",
    "## continue with this kind of \"what if\" exploration as you do the pre-reading for next week"
   ]
  },
  {
   "cell_type": "code",
   "execution_count": 14,
   "id": "ed2eebc6-7ac9-4610-8f53-b828312a7ca6",
   "metadata": {
    "tags": []
   },
   "outputs": [
    {
     "name": "stdout",
     "output_type": "stream",
     "text": [
      "[1, 2, 3, 4, 5]\n",
      "['Catherine Johnson', 'EOAS', 1]\n"
     ]
    }
   ],
   "source": [
    "# A list sits inside [] and has comma-separated entries\n",
    "list1 = [1,2,3,4,5]   # they can all be the same type\n",
    "print(list1)\n",
    "\n",
    "list2 = [name_full,\"EOAS\",1]  # or different types\n",
    "print(list2)"
   ]
  },
  {
   "cell_type": "code",
   "execution_count": 15,
   "id": "7538270c-66d1-4731-923d-7405516c2557",
   "metadata": {},
   "outputs": [
    {
     "name": "stdout",
     "output_type": "stream",
     "text": [
      "[1, 2, 3, 4, 5, 'Catherine Johnson', 'EOAS', 1]\n",
      "[1, 2, 3, 4, 5, 1, 2, 3, 4, 5]\n"
     ]
    }
   ],
   "source": [
    "# what happens if I try to add lists or multiply them by a scalar...?\n",
    "print(list1+list2) \n",
    "print(2*list1)      "
   ]
  }
 ],
 "metadata": {
  "kernelspec": {
   "display_name": "Python 3 (ipykernel)",
   "language": "python",
   "name": "python3"
  },
  "language_info": {
   "codemirror_mode": {
    "name": "ipython",
    "version": 3
   },
   "file_extension": ".py",
   "mimetype": "text/x-python",
   "name": "python",
   "nbconvert_exporter": "python",
   "pygments_lexer": "ipython3",
   "version": "3.10.5"
  }
 },
 "nbformat": 4,
 "nbformat_minor": 5
}
