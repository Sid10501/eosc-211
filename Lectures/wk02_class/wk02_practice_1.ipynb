{
 "cells": [
  {
   "cell_type": "markdown",
   "id": "02c7bb8d",
   "metadata": {},
   "source": [
    "## Week 2 Practice:  \n",
    "### Excerpted from Section 5.9 of text book\n",
    "\n",
    "Use these for your *deliberate practice*.  We will go over some, but not all in class.  I have left the numbering from the text book, so when there are gaps in the numbering it is because I removed questions that you don't yet need to be able to do or that are very different in style from questions we would ask. I have also occasionally made small edits to the questions c.f. what is in the text. (The Q04 numbering must be a relic from an older version of the text book.)\n",
    "\n",
    "### Do the questions listed below before the Tuesday class\n",
    "\n",
    "Data types: 1-9, Numeric data types: 10-11, Booleans: 20-21, Strings: 31,37, Lists: 44, Tuples: 72"
   ]
  },
  {
   "cell_type": "markdown",
   "id": "b43028f6",
   "metadata": {
    "tags": []
   },
   "source": [
    "#### A.  Determine the Data Type\n",
    "\n",
    "What is the data type of Find the data type of  ```a``` in each of the following questions?\n",
    "\n",
    "Q04.01  ```a=9```\n",
    "\n",
    "Q04.02 ```a=9.```\n",
    "\n",
    "Q04.03 ```a='9.'```\n",
    "\n",
    "Q04.04 ```a=(9)```\n",
    "\n",
    "Q04.05 ```a=False```\n",
    "\n",
    "Q04.06 ```a=[1,2,3]```\n",
    "\n",
    "Q04.07 ```a=(1,2,3)```\n",
    "\n",
    "Q04.09 ```a=1 + 9j```\n"
   ]
  },
  {
   "cell_type": "code",
   "execution_count": 25,
   "id": "9318faf5-a684-4698-84a4-89f15b0e4852",
   "metadata": {},
   "outputs": [
    {
     "name": "stdout",
     "output_type": "stream",
     "text": [
      "<class 'int'>\n",
      "<class 'float'>\n",
      "<class 'str'>\n",
      "<class 'int'>\n",
      "<class 'bool'>\n",
      "<class 'list'>\n",
      "<class 'tuple'>\n",
      "<class 'complex'>\n"
     ]
    }
   ],
   "source": [
    "a=9\n",
    "print(type(a))\n",
    "a=9.\n",
    "print(type(a))\n",
    "a='9.'\n",
    "print(type(a))\n",
    "a=(9)\n",
    "print(type(a))\n",
    "a=False\n",
    "print(type(a))\n",
    "a=[1,2,3]\n",
    "print(type(a))\n",
    "a=(1,2,3)\n",
    "print(type(a))\n",
    "a=1 + 9j\n",
    "print(type(a))"
   ]
  },
  {
   "cell_type": "markdown",
   "id": "f4ff98bb-23f9-4da7-8828-ad3a241effeb",
   "metadata": {},
   "source": [
    "#### B. Numeric Data Types\n",
    "\n",
    "Q04.10 Set ```a=1``` and ```b=2```. What data type is ```a/b```?\n",
    "\n",
    "Q04.11 Set ```a=1``` and ```b=2```. What data type is ```a*b```?\n",
    "\n",
    "Q04.12 What is ```5.1``` plus ```0 + 3j```?\n",
    "\n",
    "Q04.13 What floating point number converts to the boolean ```False```? Show this in code using the ```bool()``` function.\n",
    "\n",
    "Q04.15 Show that ```3e2``` is the same as ```3E2``` with the comparison operator ```==```\n",
    "\n",
    "Q04.16 Euler's number, $e$, can be called in Python using the code below (we will cover NumPy in week 3):\n",
    "\n",
    "```\n",
    "from numpy import e\n",
    "```\n",
    "\n",
    "(a) Round $e$ to the nearest integer. Store the result in a variable called ```x```.\n",
    "\n",
    "(b) Round $e$ to the nearest 1000ths place (the nearest 0.001). Store the result in a variable called ```y```.\n",
    "\n",
    "Q04.17 Define the complex number ```A``` using the code below:\n",
    "\n",
    "```A = 4 + 2j```\n",
    "\n",
    "(a) store the real component of ```A``` in a variable called ```real```.\n",
    "\n",
    "(b) store the imaginary component of ```A``` in a variable called ```imaginary```.\n",
    "\n",
    "(c) store the magnitude of ```A``` in a variable called ```mag```. The magnitude of an imaginary number is defined as:\n",
    "\n",
    "$$ magnitude = \\sqrt{(real)^2+(imaginary)^2} $$"
   ]
  },
  {
   "cell_type": "code",
   "execution_count": 41,
   "id": "de2a0b71-08f4-4b01-a31a-dec4fb28f8ca",
   "metadata": {},
   "outputs": [
    {
     "name": "stdout",
     "output_type": "stream",
     "text": [
      "<class 'float'>\n",
      "<class 'int'>\n",
      "<class 'complex'>\n",
      "False\n",
      "True\n",
      "2\n",
      "2.718\n",
      "The real part of A is 4.0\n",
      "The imaginary part of A is 2.0\n",
      "4.47213595499958\n"
     ]
    }
   ],
   "source": [
    "from numpy import e\n",
    "\n",
    "a = 1; b = 2; print(type(a/b))\n",
    "a = 1; b = 2; print(type(a*b))\n",
    "print(type(5.1 + (0 + 3j)))\n",
    "print(bool(0.0))\n",
    "print(bool(3e2 == 3E2))\n",
    "x = int(e); print(x)\n",
    "y = round(e,3); print (y)\n",
    "A = 4 + 2j; real = A.real ; imaginary = A.imag; print('The real part of A is',real); print('The imaginary part of A is',imaginary);\n",
    "mag = (real**2 + imaginary**2)**(1/2); print(mag)"
   ]
  },
  {
   "cell_type": "markdown",
   "id": "3561ce87",
   "metadata": {},
   "source": [
    "#### C. Booleans\n",
    "\n",
    "Q04.20 Predict the output if the lines ```n=5``` and ```(n<3) and (n<7)``` are run. Then run the the two lines of code.\n",
    "\n",
    "Q04.21 Predict the output if the lines of code below are run. Then run the code."
   ]
  },
  {
   "cell_type": "markdown",
   "id": "6cd5bbb1",
   "metadata": {},
   "source": [
    "Q04.22 Pick a number ```n``` to make the following statement ```True```: ```(2<n) or (n==2+n)``` Then run the code to show your number works.\n",
    "\n",
    "Q04.23 Pick a number ```n``` to make the following statement ```False```: ```not (n<6) and (n<4)``` Then run the code to show your number works.\n",
    "\n",
    "Q04.24 Add the integers ```1``` and ```0``` and convert the answer to a boolean. Add the boolean values ```bool(0) + bool(1)``` and compare the result. \n",
    "\n",
    "Q04.25 Show that ```(n>5) and (n<=10)``` is equivalent to ```5 < n <= 10``` using two different choices for ```n```.\n",
    "\n",
    "Q04.26 Show that ```(n<5) or (n>=10)``` is equivalent to ```not(5 =< n < 10)``` using two different choices for ```n```.\n"
   ]
  },
  {
   "cell_type": "code",
   "execution_count": null,
   "id": "7b806881-1182-4702-9d48-de7e1ef2000d",
   "metadata": {},
   "outputs": [],
   "source": [
    "#C"
   ]
  },
  {
   "cell_type": "markdown",
   "id": "f5bc7d96",
   "metadata": {},
   "source": [
    "#### D. Strings\n",
    "\n",
    "Q04.30 Define a string that contains the word $Problem$.\n",
    "\n",
    "Q04.31 Define one string as the word $Problem$ and define another string as the word $Solving$. Combine these two strings to make the statement $Problem \\ Solving$.\n",
    "\n",
    "Q04.32 (a) Define a string that contains the number $8$ and a string that contains the number $5$. Combine these two strings with the plus operator ```+```.\n",
    "\n",
    " (b) Define an integer as the number $8$ and an integer as the number $5$ and combine these two integers with the plus operator ```+```\n",
    " \n",
    " (c) Explain why the output from (a) was different from the output of (b)\n",
    " \n",
    " (d) Multiply the string $8$ and the string $5$ with the multiplication operator ```*```.  Compare the output to multiplying the integers $8$ and the integer $5$. Why is the output different?\n",
    "\n",
    "Q03.33 Complete the following index and slicing operations after ```word = 'Problem'``` is defined.\n",
    "\n",
    "(a) Pull out the letter $P$ from ```word```\n",
    "\n",
    "(b) Pull out the first three letters $Pro$ from ```word```\n",
    "\n",
    "(c) Pull out the second through the fourth letters $rob$ from ```word```\n",
    "\n",
    "(d) Pull out every other letter from ```word``` starting with $P$\n",
    "\n",
    "(e) Use indexing and slicing to ouput ```word``` backwards to produce $melborP$.\n",
    "\n",
    "Q04.34 Define the strings below:\n",
    "\n",
    " (a) Define a string ```a``` as _coffee_,  define a string ```b``` as _it's_, define a string ```c``` as _hot!_ and string ```d``` as , (a comma).\n",
    " \n",
    " (b) Combine the strings ```a```, ```b```, ```c``` and ```d``` to produce the string _coffee, it's hot_ (notice the comma)\n",
    " \n",
    " (c) Print out the statement _she said \"coffee, it's hot\"_ using the variables ```a```, ```b```, ```c``` and ```d```.\n",
    " \n",
    "Q04.35 Create the string ```path``` with the value _C:\\\\Users\\\\Gabby\\\\Documents_\n",
    "\n",
    "Q04.36 Convert the string ```Problem``` to the list ```['P','r','o','b','l','e','m']``` without writing the list from scratch.\n",
    "\n",
    "Q04.37 Use the string ```over board``` and slicing to produce the following words:\n",
    "\n",
    "(a) ```over```\n",
    "\n",
    "(b) ```board```\n",
    "\n",
    "(c) ```oar```\n",
    "\n",
    "Q04.38 Use the string ```rotten tomatoes``` and slicing to produce the following words:\n",
    "\n",
    "(a) ```to```\n",
    "\n",
    "(b) ```no```\n",
    "\n",
    "(c) ```ten```\n",
    "\n",
    "(d) ```oat```\n"
   ]
  },
  {
   "cell_type": "markdown",
   "id": "80a2ef37",
   "metadata": {},
   "source": [
    "#### E. Lists\n",
    "\n",
    "Q04.40 Create a list that contains the numbers $1$, $2.9 \\times 10^8$, and the word $game$.\n",
    "\n",
    "Q04.41 Create a list that contains the words $problem$, $solving$, $with$, $python$.\n",
    "\n",
    "Q04.42 Create a list with one value, the number $6$. Convert the list to a boolean with the ```bool()``` function.\n",
    "\n",
    "Q04.43 Create an empty list. Convert the empty list to a boolean with the ```bool()``` function.\n",
    "\n",
    "Q04.44 Create a list with the letters $C$, $D$, and $R$. Pull the letters $C$ and $D$ out of your list with indexing.\n",
    "\n",
    "Create a list with the numbers $1$ to $10$ (counting by ones).  Use it to answer the following questions:\n",
    "\n",
    "Q04.45 . Use slicing to pull out the number $5$ from the list.\n",
    "\n",
    "Q04.46 Use slicing to pull out all of the numbers $5$ or less.\n",
    "\n",
    "Q04.47 Use slicing to pull out all of the numbers $5$ and greater.\n",
    "\n",
    "Q04.48 Use slicing to pull out all of the even numbers from the list.\n",
    "\n",
    "Q04.49 Use slicing to pull out every odd number from the list.\n",
    "\n",
    "Q04.50 Use slicing to return the list in reverse order (the returned list starts with $10$ and ends with $1$).\n",
    "\n",
    "#### F. Tuples\n",
    "\n",
    "Q04.70 Create a tuple with the numbers $8$, $9$, and $10$. \n",
    "\n",
    "Q04.71 Create a tuple that has a single entry, the number $10$.\n",
    "\n",
    "Q04.72 Create a list and a tuple that both contains the strings: $one$, $two$ and $three$.   Pull the word $two$ out of both the list and the tuple.\n",
    "\n",
    "Q04.73 Create a list and a tuple that both contains the strings: $one$, $two$ and $three$. Try to substitute the number $2$ for the word $two$ in both the list and tuple using indexing (square brackets).\n",
    "\n",
    "Q04.74 Code the following lines:\n",
    "\n",
    "```\n",
    "t1 = (9)\n",
    "t2 = (9,)\n",
    "t3 = ('9')\n",
    "```\n",
    "Use Python's ```type()``` function to find the object type of each variable.\n",
    "\n",
    "Q04.75 Create a tuple that returns ```True``` when converted to a boolean. Use the ```bool()``` function to demonstrate your tuple converts to ```True```.\n",
    "\n",
    "Q04.76 Create a tuple that returns ```False``` when converted to a boolean. Use the ```bool()``` function to demonstrate your tuple converts to ```False```."
   ]
  },
  {
   "cell_type": "markdown",
   "id": "36749dff",
   "metadata": {},
   "source": [
    "#### G. Errors, Explanations, and Solutions\n",
    "\n",
    "Q04.80 Run the following lines of code and explain the error in your own words. Then rewrite the lines of code to run error free:"
   ]
  },
  {
   "cell_type": "code",
   "execution_count": null,
   "id": "f312892d",
   "metadata": {},
   "outputs": [],
   "source": [
    "n = 503\n",
    "n[2]"
   ]
  },
  {
   "cell_type": "markdown",
   "id": "830ef489",
   "metadata": {},
   "source": [
    "Q04.81 Run the following lines of code and explain the error in your own words. Then rewrite the lines of code to run error free:"
   ]
  },
  {
   "cell_type": "code",
   "execution_count": null,
   "id": "262d2506",
   "metadata": {},
   "outputs": [],
   "source": [
    "a = 321\n",
    "b = \"go!\"\n",
    "c = a + b"
   ]
  },
  {
   "cell_type": "markdown",
   "id": "ae63c071",
   "metadata": {},
   "source": [
    "Q04.83 Run the following lines of code and explain the error in your own words. Then rewrite the lines of code to run error free:"
   ]
  },
  {
   "cell_type": "code",
   "execution_count": null,
   "id": "9870da8d",
   "metadata": {},
   "outputs": [],
   "source": [
    "f = false\n",
    "not f"
   ]
  },
  {
   "cell_type": "markdown",
   "id": "1906496b",
   "metadata": {},
   "source": [
    "Q04.84 Run the following lines of code and explain the error in your own words. Then rewrite the lines of code to run error free:"
   ]
  },
  {
   "cell_type": "code",
   "execution_count": null,
   "id": "4a841d91",
   "metadata": {},
   "outputs": [],
   "source": [
    "comp = 0.1 - 4.3i\n",
    "comp + 5"
   ]
  },
  {
   "cell_type": "markdown",
   "id": "d433c1ac",
   "metadata": {},
   "source": [
    "Q04.85 Run the following lines of code and explain the error in your own words. Then rewrite the lines of code to run error free:"
   ]
  },
  {
   "cell_type": "code",
   "execution_count": null,
   "id": "daee230b",
   "metadata": {},
   "outputs": [],
   "source": [
    "empty = \"\"\n",
    "bool(empty)"
   ]
  },
  {
   "cell_type": "markdown",
   "id": "d1d8f93f",
   "metadata": {},
   "source": [
    "Q04.86 Run the following lines of code and explain the error in your own words. Then rewrite the lines of code to run error free:"
   ]
  },
  {
   "cell_type": "code",
   "execution_count": null,
   "id": "4c5a7ef3",
   "metadata": {
    "lines_to_next_cell": 2
   },
   "outputs": [],
   "source": [
    "lst = [1, 3, 5]\n",
    "lst[3]"
   ]
  },
  {
   "cell_type": "markdown",
   "id": "15a7bb3e",
   "metadata": {},
   "source": [
    "Q04.88 Run the following lines of code and explain the error in your own words. Then rewrite the lines of code to run error free:"
   ]
  },
  {
   "cell_type": "code",
   "execution_count": null,
   "id": "5777b508",
   "metadata": {},
   "outputs": [],
   "source": [
    "s = [\"Problem Solving\"]\n",
    "s[8:]"
   ]
  }
 ],
 "metadata": {
  "jupytext": {
   "cell_metadata_filter": "-all",
   "notebook_metadata_filter": "-all"
  },
  "kernelspec": {
   "display_name": "Python 3 (ipykernel)",
   "language": "python",
   "name": "python3"
  },
  "language_info": {
   "codemirror_mode": {
    "name": "ipython",
    "version": 3
   },
   "file_extension": ".py",
   "mimetype": "text/x-python",
   "name": "python",
   "nbconvert_exporter": "python",
   "pygments_lexer": "ipython3",
   "version": "3.10.5"
  }
 },
 "nbformat": 4,
 "nbformat_minor": 5
}
