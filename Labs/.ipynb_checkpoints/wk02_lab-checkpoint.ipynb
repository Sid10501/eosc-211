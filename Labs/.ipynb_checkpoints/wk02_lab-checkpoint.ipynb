{
 "cells": [
  {
   "cell_type": "markdown",
   "id": "0bb92820",
   "metadata": {
    "deletable": false,
    "editable": false,
    "nbgrader": {
     "cell_type": "markdown",
     "checksum": "f8ab84955a7ae5a18e47bd75785efd53",
     "grade": false,
     "grade_id": "cell-b6e9f8379cb4a315",
     "locked": true,
     "schema_version": 3,
     "solution": false,
     "task": false
    }
   },
   "source": [
    "# Lab Week 2:  Getting Started!\n",
    "EOSC 211 2022.  Fill in your name, partner name and student numbers in the next cell."
   ]
  },
  {
   "cell_type": "markdown",
   "id": "da8d4b8e",
   "metadata": {},
   "source": [
    "### Your name and student number: Sidharth Grover, 36181949\n",
    "### Partner name and student number:"
   ]
  },
  {
   "cell_type": "markdown",
   "id": "06134aa4",
   "metadata": {
    "deletable": false,
    "editable": false,
    "nbgrader": {
     "cell_type": "markdown",
     "checksum": "8e73738e01ac469c2a99af379dd29a3f",
     "grade": false,
     "grade_id": "cell-dcb057b4291c34e5",
     "locked": true,
     "schema_version": 3,
     "solution": false,
     "task": false
    }
   },
   "source": [
    "## Pre-Reading: Complete this before attempting the lab!\n",
    "\n",
    "[Lab week 2 pre-reading](wk02_lab_reading.ipynb)\n",
    "\n",
    "## Learning Objectives\n",
    "\n",
    "- Connect to Jupyterhub and set up your 'workflow' for each lab.\n",
    "- Create, edit, and delete *code cells* and *markdown cells* in a Jupyter notebook.\n",
    "- Assign data to *variables*.\n",
    "- Execute code cells to do some calculations.\n",
    "- Practice with some basic data types, indexing, methods, built-in functions.\n",
    "- Use comments and/or *markdown* cells to add annotations to your code.\n",
    "- Save your work and submit an assignment via Canvas."
   ]
  },
  {
   "cell_type": "markdown",
   "id": "701a2966",
   "metadata": {
    "deletable": false,
    "editable": false,
    "nbgrader": {
     "cell_type": "markdown",
     "checksum": "4eb781454476ccdf8924c09204ea0802",
     "grade": false,
     "grade_id": "cell-ed5548160a734253",
     "locked": true,
     "schema_version": 3,
     "solution": false,
     "task": false
    }
   },
   "source": [
    "## The Lab\n",
    "\n",
    "> Write your answers to the questions in the three problem sets below and submit your lab via Canvas as a Jupyter Notebook (.ipynb) file.  Make one code cell per problem set.  Make sure to comment your code."
   ]
  },
  {
   "cell_type": "code",
   "execution_count": 1,
   "id": "939d314d",
   "metadata": {},
   "outputs": [],
   "source": [
    "import numpy.testing as testing"
   ]
  },
  {
   "cell_type": "markdown",
   "id": "e266f79e",
   "metadata": {
    "deletable": false,
    "editable": false,
    "nbgrader": {
     "cell_type": "markdown",
     "checksum": "bce19546a8504d2b275ab5ffd86791ef",
     "grade": false,
     "grade_id": "cell-27cbe643189e8fc0",
     "locked": true,
     "schema_version": 3,
     "solution": false,
     "task": false
    }
   },
   "source": [
    "## Problem Set 1 - Orbit Height\n",
    "\n",
    "The International Space Station (ISS) orbits the Earth at an altitude of about 400 km and a speed of about 28000 km/h. The Earth's radius is 6371 km.\n",
    "\n",
    "1. Use the equation for the circumference of a circle to find the distance the ISS will traverse in  one complete orbit around the Earth.   Write python code to do this.  Assign the answer to a variable called `path_length` and print the answer to the screen.  (If you've forgotten the equation for the circumference of a circle, it is in the lab pre-reading.  You'll need to first compute the ISS orbital radius and assign this to a variable `ISS_radius` - i.e. distance from center of Earth.  \n",
    "\n",
    "Use the following equation that relates travel time $t$ to distance $d$ and speed $v$ to answer the questions below:\n",
    "\n",
    "$$\n",
    "t = \\frac{d}{v}\n",
    "$$\n",
    "\n",
    "2. Write code to calculate the orbit time in units of *hours* using floating point notation and assign this value to a variable named `t_hours`.  Report your answer (i.e. print to the screen).\n",
    "\n",
    "3. Calculate the orbit time in units of whole *minutes* as an integer and assign this value to a variable named `t_minutes`.  Report your answer (i.e. print to the screen).\n",
    "\n",
    "4. At the elevation and speed given, how many full orbits can the ISS complete around the Earth in one day? Report your answer as an *integer* and assign to a variable named `n_orbits`."
   ]
  },
  {
   "cell_type": "code",
   "execution_count": 2,
   "id": "afef52e8",
   "metadata": {
    "deletable": false,
    "nbgrader": {
     "cell_type": "code",
     "checksum": "76901180c38c31a5f094ca2eea1c36e8",
     "grade": false,
     "grade_id": "cell-139d9632bc1c9e95",
     "locked": false,
     "schema_version": 3,
     "solution": true,
     "task": false
    }
   },
   "outputs": [
    {
     "name": "stdout",
     "output_type": "stream",
     "text": [
      "The ISS orbital radius is 6771 km\n"
     ]
    }
   ],
   "source": [
    "# Replace the statement below with code that saves the ISS orbital radius in a variable named \"ISS_radius\"\n",
    "\n",
    "# YOUR CODE HERE\n",
    "ISS_radius = 400 + 6371;\n",
    "print('The ISS orbital radius is',ISS_radius,'km')"
   ]
  },
  {
   "cell_type": "code",
   "execution_count": 3,
   "id": "115e440b",
   "metadata": {
    "deletable": false,
    "editable": false,
    "nbgrader": {
     "cell_type": "code",
     "checksum": "a63ac2c2a75067903cb00f13ec7ae4e2",
     "grade": true,
     "grade_id": "cell-270c7889d40001d0",
     "locked": true,
     "points": 1,
     "schema_version": 3,
     "solution": false,
     "task": false
    }
   },
   "outputs": [],
   "source": [
    "# TEST CELL:  Test the value of ISS_radius:\n",
    "\n",
    "# This is a test implemented by us which checks that the value contained in the variable\n",
    "# `ISS_radius` is equal to the correct answer. There are tests throughout the notebook, they\n",
    "# will appear with the headin #TEST CELL in the lab.  Don't worry you cannot delete them.\n",
    "# IMPORTANT:   Make sure that your variables are named *EXACTLY* as requested in the \n",
    "# question or the test will fail.\n",
    "testing.assert_almost_equal(ISS_radius, 6771, decimal=0)"
   ]
  },
  {
   "cell_type": "code",
   "execution_count": 4,
   "id": "8a1c1397",
   "metadata": {
    "deletable": false,
    "nbgrader": {
     "cell_type": "code",
     "checksum": "286b666bdf3d8a21a540328a07b58e9f",
     "grade": false,
     "grade_id": "cell-549146b571aa354f",
     "locked": false,
     "schema_version": 3,
     "solution": true,
     "task": false
    }
   },
   "outputs": [
    {
     "name": "stdout",
     "output_type": "stream",
     "text": [
      "The circumference path_length = 42521.88 km\n"
     ]
    }
   ],
   "source": [
    "# find circumference of orbital path: \n",
    "\n",
    "# YOUR CODE HERE\n",
    "pi = 3.14;\n",
    "path_length = 2 * pi * ISS_radius;\n",
    "print(f'The circumference {path_length = :.2f} km')"
   ]
  },
  {
   "cell_type": "code",
   "execution_count": 5,
   "id": "6423feec",
   "metadata": {
    "deletable": false,
    "editable": false,
    "nbgrader": {
     "cell_type": "code",
     "checksum": "33f1db3b49814dcc19651c5bd076a061",
     "grade": true,
     "grade_id": "cell-38f1c0e2680ecaa4",
     "locked": true,
     "points": 1,
     "schema_version": 3,
     "solution": false,
     "task": false
    }
   },
   "outputs": [],
   "source": [
    "# TEST CELL: tests path_length\n"
   ]
  },
  {
   "cell_type": "code",
   "execution_count": 6,
   "id": "99e09926",
   "metadata": {
    "deletable": false,
    "nbgrader": {
     "cell_type": "code",
     "checksum": "bdd542c754af630e0d93a83cf34ebc1d",
     "grade": false,
     "grade_id": "cell-ef23c01885a71934",
     "locked": false,
     "schema_version": 3,
     "solution": true,
     "task": false
    }
   },
   "outputs": [
    {
     "name": "stdout",
     "output_type": "stream",
     "text": [
      "The travel time for one orbit in hours is 1.5186385714285715\n",
      "The travel time for one orbit in minutes is 91.11831428571429\n"
     ]
    }
   ],
   "source": [
    "# calculate travel time for one orbit and assign to variables:\n",
    "#  t_hours\n",
    "#  t_minutes \n",
    "\n",
    "# YOUR CODE HERE\n",
    "ISS_speed_hours = 28000;\n",
    "t_hours = path_length / ISS_speed_hours;\n",
    "print('The travel time for one orbit in hours is', t_hours)\n",
    "ISS_speed_minutes = 28000/60;\n",
    "t_minutes = path_length / ISS_speed_minutes;\n",
    "print('The travel time for one orbit in minutes is', t_minutes)"
   ]
  },
  {
   "cell_type": "code",
   "execution_count": 7,
   "id": "e0eb98c7",
   "metadata": {
    "deletable": false,
    "editable": false,
    "nbgrader": {
     "cell_type": "code",
     "checksum": "7877b89436799833f5fced46eaf23dd8",
     "grade": true,
     "grade_id": "cell-06f815c027f47ec5",
     "locked": true,
     "points": 1,
     "schema_version": 3,
     "solution": false,
     "task": false
    }
   },
   "outputs": [],
   "source": [
    "# TEST CELL:  tests t_hours and t_minutes, both must be corrrect.\n"
   ]
  },
  {
   "cell_type": "code",
   "execution_count": 8,
   "id": "7a514d25",
   "metadata": {
    "deletable": false,
    "nbgrader": {
     "cell_type": "code",
     "checksum": "732edaf842ff03af3df17cf2b50bc5c7",
     "grade": false,
     "grade_id": "cell-abd2bc9e8a443353",
     "locked": false,
     "schema_version": 3,
     "solution": true,
     "task": false
    }
   },
   "outputs": [
    {
     "name": "stdout",
     "output_type": "stream",
     "text": [
      "The number of orbits which can be completed in a day is 91.11831428571429\n"
     ]
    }
   ],
   "source": [
    "# find number of orbits which can be completed in a day and assign to variable\n",
    "#  n_orbits\n",
    "\n",
    "# YOUR CODE HERE\n",
    "n_orbits = 24/t_hours;\n",
    "print('The number of orbits which can be completed in a day is', t_minutes)"
   ]
  },
  {
   "cell_type": "code",
   "execution_count": 9,
   "id": "e1f340b5",
   "metadata": {
    "deletable": false,
    "editable": false,
    "nbgrader": {
     "cell_type": "code",
     "checksum": "cdd97da4b05ba176577c943769a0fb94",
     "grade": true,
     "grade_id": "cell-7bfe704d865f2c14",
     "locked": true,
     "points": 1,
     "schema_version": 3,
     "solution": false,
     "task": false
    }
   },
   "outputs": [],
   "source": [
    "# TEST CELL: tests value and type of n_orbits\n"
   ]
  },
  {
   "cell_type": "markdown",
   "id": "e0ecb5ea",
   "metadata": {
    "deletable": false,
    "editable": false,
    "nbgrader": {
     "cell_type": "markdown",
     "checksum": "513f9ad86c9dd3048523073d946211ee",
     "grade": false,
     "grade_id": "cell-ea8640be127d133e",
     "locked": true,
     "schema_version": 3,
     "solution": false,
     "task": false
    }
   },
   "source": [
    "## Question 2 - Indexing Practice\n",
    "*The below code cell contains a python list containing a series of numbers. Use built-in functions to do the following, printing the result at the end of each stage to the screen:*\n",
    "\n",
    "1. Write code that will find the length of the list `a` and assign it to the variable named `a_len`.  Print your answer to the screen to check it for yourself.\n",
    "\n",
    "2. Find the indices (position) of the elements in the list equal to `99` and remove them from the list.  You may find the positions either by using list methods or by eye.   \n",
    "\n",
    "3. Write code to find the index of the `0.` in the list `a` (use the list `a` from the end of question 2 after removing the `99` values) and assign the value of the index to the variable `idx0`. \n",
    "\n",
    "4. Remove the `0` at `idx0` using the `.pop()` method.   \n",
    "\n",
    "5. Make a copy of the list and assign it to the variable `b`.   \n",
    "\n",
    "6. Insert one integer zero to the beginning and end of the copied list `b`."
   ]
  },
  {
   "cell_type": "code",
   "execution_count": 10,
   "id": "a96e3f2f",
   "metadata": {
    "deletable": false,
    "nbgrader": {
     "cell_type": "code",
     "checksum": "d87982bc84623595598f07f65c11365d",
     "grade": false,
     "grade_id": "cell-3c1892cfaab6590e",
     "locked": false,
     "schema_version": 3,
     "solution": true,
     "task": false
    }
   },
   "outputs": [
    {
     "name": "stdout",
     "output_type": "stream",
     "text": [
      "The length of a is 7\n"
     ]
    }
   ],
   "source": [
    "a = [99, 0.01, 0.03, 0.01, 0., 0.05, 99]\n",
    "\n",
    "# 1. find the length of `a` and assign it \n",
    "# to a new variable named `a_len`\n",
    "\n",
    "# YOUR CODE HERE\n",
    "a_len = len(a)\n",
    "print('The length of a is',a_len);"
   ]
  },
  {
   "cell_type": "code",
   "execution_count": 11,
   "id": "0bce56d4",
   "metadata": {
    "deletable": false,
    "editable": false,
    "nbgrader": {
     "cell_type": "code",
     "checksum": "64232fd1d71f99830c20d0b0dd4aeb50",
     "grade": true,
     "grade_id": "cell-30f1f38b427025dd",
     "locked": true,
     "points": 1,
     "schema_version": 3,
     "solution": false,
     "task": false
    }
   },
   "outputs": [],
   "source": [
    "# TEST CELL: length of a"
   ]
  },
  {
   "cell_type": "code",
   "execution_count": 12,
   "id": "80894a11",
   "metadata": {
    "deletable": false,
    "nbgrader": {
     "cell_type": "code",
     "checksum": "5d105cc2fd1f9d5f60a9cabe089ae4d4",
     "grade": false,
     "grade_id": "cell-8def55d3d224afdf",
     "locked": false,
     "schema_version": 3,
     "solution": true,
     "task": false
    }
   },
   "outputs": [
    {
     "name": "stdout",
     "output_type": "stream",
     "text": [
      "[0.01, 0.03, 0.01, 0.0, 0.05]\n"
     ]
    }
   ],
   "source": [
    "# 2. remove the first and last elements == 99\n",
    "\n",
    "# YOUR CODE HERE\n",
    "a.pop(0);\n",
    "a.pop(-1);\n",
    "\n",
    "print(a)\n"
   ]
  },
  {
   "cell_type": "code",
   "execution_count": 13,
   "id": "56f86bf8",
   "metadata": {
    "deletable": false,
    "editable": false,
    "nbgrader": {
     "cell_type": "code",
     "checksum": "b23ff055d2a4bd6cc541d096af92ea35",
     "grade": true,
     "grade_id": "cell-3fc9518c3744c1ca",
     "locked": true,
     "points": 1,
     "schema_version": 3,
     "solution": false,
     "task": false
    }
   },
   "outputs": [],
   "source": [
    "# TEST CELL: what is in a"
   ]
  },
  {
   "cell_type": "code",
   "execution_count": 14,
   "id": "7ea91b0d",
   "metadata": {
    "deletable": false,
    "nbgrader": {
     "cell_type": "code",
     "checksum": "a7aa7b22c18e7a7bda471d0b47e81077",
     "grade": false,
     "grade_id": "cell-64d7920e3de5bbbe",
     "locked": false,
     "schema_version": 3,
     "solution": true,
     "task": false
    }
   },
   "outputs": [
    {
     "name": "stdout",
     "output_type": "stream",
     "text": [
      "3\n"
     ]
    }
   ],
   "source": [
    "# 3. find the zero\n",
    "\n",
    "# YOUR CODE HERE\n",
    "idx0 = a.index(0);\n",
    "print(idx0);"
   ]
  },
  {
   "cell_type": "code",
   "execution_count": 15,
   "id": "ce66d7c4",
   "metadata": {
    "deletable": false,
    "editable": false,
    "nbgrader": {
     "cell_type": "code",
     "checksum": "fd08fde0ccaf4073e105127c65064519",
     "grade": true,
     "grade_id": "cell-913f7f44bed1020e",
     "locked": true,
     "points": 1,
     "schema_version": 3,
     "solution": false,
     "task": false
    }
   },
   "outputs": [],
   "source": [
    "# TEST CELL: index"
   ]
  },
  {
   "cell_type": "code",
   "execution_count": 16,
   "id": "10dbf873",
   "metadata": {
    "deletable": false,
    "nbgrader": {
     "cell_type": "code",
     "checksum": "466bb0dbb4775133530e8beadc88434e",
     "grade": false,
     "grade_id": "cell-d57cbfcd6b21b787",
     "locked": false,
     "schema_version": 3,
     "solution": true,
     "task": false
    }
   },
   "outputs": [
    {
     "name": "stdout",
     "output_type": "stream",
     "text": [
      "[0.01, 0.03, 0.01, 0.05]\n"
     ]
    }
   ],
   "source": [
    "# 4. remove the zero\n",
    "\n",
    "# YOUR CODE HERE\n",
    "a.pop(3);\n",
    "print(a)"
   ]
  },
  {
   "cell_type": "code",
   "execution_count": 17,
   "id": "2727a799",
   "metadata": {
    "deletable": false,
    "editable": false,
    "nbgrader": {
     "cell_type": "code",
     "checksum": "ffc4a2ced9bfc4bcf05d0cff01836f32",
     "grade": true,
     "grade_id": "cell-74098e569842f0da",
     "locked": true,
     "points": 1,
     "schema_version": 3,
     "solution": false,
     "task": false
    }
   },
   "outputs": [],
   "source": [
    "# TEST CELL: what is in a"
   ]
  },
  {
   "cell_type": "code",
   "execution_count": 18,
   "id": "01f5655f",
   "metadata": {
    "deletable": false,
    "nbgrader": {
     "cell_type": "code",
     "checksum": "3ff86a855ece56036f8bd024330f4b86",
     "grade": false,
     "grade_id": "cell-a6b4f6dc261d3370",
     "locked": false,
     "schema_version": 3,
     "solution": true,
     "task": false
    }
   },
   "outputs": [
    {
     "name": "stdout",
     "output_type": "stream",
     "text": [
      "[0.01, 0.03, 0.01, 0.05]\n"
     ]
    }
   ],
   "source": [
    "# 5. make a copy of the list\n",
    "\n",
    "# YOUR CODE HERE\n",
    "b = a.copy()\n",
    "print(b)"
   ]
  },
  {
   "cell_type": "code",
   "execution_count": 19,
   "id": "b8f4efbc",
   "metadata": {
    "deletable": false,
    "editable": false,
    "nbgrader": {
     "cell_type": "code",
     "checksum": "ff4d2c12f772b882819756fa83034673",
     "grade": true,
     "grade_id": "cell-830adf1ea9b089a8",
     "locked": true,
     "points": 1,
     "schema_version": 3,
     "solution": false,
     "task": false
    }
   },
   "outputs": [],
   "source": [
    "# TEST CELL: what is in b"
   ]
  },
  {
   "cell_type": "code",
   "execution_count": 20,
   "id": "6c7d8a93",
   "metadata": {
    "deletable": false,
    "nbgrader": {
     "cell_type": "code",
     "checksum": "c1db18dbe81e561b242a80f6757445be",
     "grade": false,
     "grade_id": "cell-ec25a45dc68a6f56",
     "locked": false,
     "schema_version": 3,
     "solution": true,
     "task": false
    }
   },
   "outputs": [
    {
     "name": "stdout",
     "output_type": "stream",
     "text": [
      "[0.01, 0.03, 0.01, 0.05, 0]\n"
     ]
    }
   ],
   "source": [
    "# append a zero to the end of list `b`: \n",
    "# YOUR CODE HERE\n",
    "b.append(0);\n",
    "print(b)"
   ]
  },
  {
   "cell_type": "code",
   "execution_count": 21,
   "id": "86abad08",
   "metadata": {
    "deletable": false,
    "editable": false,
    "nbgrader": {
     "cell_type": "code",
     "checksum": "ee38411990e4612b8c8a7c007524d123",
     "grade": true,
     "grade_id": "cell-955720ae72860e9b",
     "locked": true,
     "points": 1,
     "schema_version": 3,
     "solution": false,
     "task": false
    }
   },
   "outputs": [],
   "source": [
    "# TEST CELL: what is in b"
   ]
  },
  {
   "cell_type": "markdown",
   "id": "f9434114",
   "metadata": {
    "deletable": false,
    "editable": false,
    "nbgrader": {
     "cell_type": "markdown",
     "checksum": "2303cc94da12e907504989ef90f6b7dd",
     "grade": false,
     "grade_id": "cell-34378160efa47b19",
     "locked": true,
     "schema_version": 3,
     "solution": false,
     "task": false
    }
   },
   "source": [
    "## Question 3 - Practice with Booleans\n",
    "\n",
    "There are 11 boolean statements below. What is the boolean data type that would result from executing each of the following statements (True or False)? \n",
    "\n",
    "Create a **list** named `bools` where each element in `bools` is the truth value (True or False) of each corresponding statement below. Make sure your entries are in the order corresponding to the order of the statements below.\n",
    "\n",
    "- ```python\n",
    "True and True\n",
    "```\n",
    "- ```python\n",
    "True and False\n",
    "```\n",
    "- ```python\n",
    "\"Hello\" == 'Hello'\n",
    "```\n",
    "- ```python\n",
    "\"EOAS\" == \"eoas\"\n",
    "```\n",
    "- ```python\n",
    "3 == 3\n",
    "```\n",
    "- ```python\n",
    "3 != 4\n",
    "```\n",
    "- ```python\n",
    "0 == 0 and 0 != 0\n",
    "```\n",
    "- ```python\n",
    "not ('a' == 'a')\n",
    "```\n",
    "- ```python\n",
    "not ('a' == 'b')\n",
    "```\n",
    "- ```python\n",
    "not ( 3 == 3 and 0 != 0)\n",
    "```\n",
    "- ```python\n",
    "name = 'catherine'\n",
    "name[:3] == 'Cat'\n",
    "```\n",
    "\n"
   ]
  },
  {
   "cell_type": "code",
   "execution_count": 22,
   "id": "8d6f1052",
   "metadata": {
    "deletable": false,
    "nbgrader": {
     "cell_type": "code",
     "checksum": "cbf34992091cde153522b54ebc31f708",
     "grade": false,
     "grade_id": "cell-0a59daccdcb03e36",
     "locked": false,
     "schema_version": 3,
     "solution": true,
     "task": false
    }
   },
   "outputs": [
    {
     "name": "stdout",
     "output_type": "stream",
     "text": [
      "[True, False, True, False, True, True, False, False, True, False, False]\n"
     ]
    }
   ],
   "source": [
    "# Make a list with 11 entries named `bools` that contains\n",
    "# True or False values for the 11-point question above. \n",
    "\n",
    "# YOUR CODE HERE\n",
    "name = 'catherine';\n",
    "bools = [\n",
    "    True and True,\n",
    "    True and False,\n",
    "    \"Hello\" == 'Hello',\n",
    "    \"EOAS\" == \"eoas\",\n",
    "    3 == 3,3 != 4,\n",
    "    0 == 0 and 0 != 0,\n",
    "    not ('a' == 'a'),\n",
    "    not ('a' == 'b'),\n",
    "    not ( 3 == 3 and 0 != 0,),\n",
    "    name[:3] == 'Cat'\n",
    "]\n",
    "print(bools)\n"
   ]
  },
  {
   "cell_type": "code",
   "execution_count": 23,
   "id": "87337aa4",
   "metadata": {
    "deletable": false,
    "editable": false,
    "nbgrader": {
     "cell_type": "code",
     "checksum": "c17b09ef85cab291817da980c6a2603a",
     "grade": true,
     "grade_id": "cell-8d2e43d89e44a370",
     "locked": true,
     "points": 1,
     "schema_version": 3,
     "solution": false,
     "task": false
    }
   },
   "outputs": [],
   "source": [
    "# TEST CELL:  tests that your array `bools` is correct.  The whole array must be correct."
   ]
  },
  {
   "cell_type": "markdown",
   "id": "ee1d0db1",
   "metadata": {
    "deletable": false,
    "editable": false,
    "nbgrader": {
     "cell_type": "markdown",
     "checksum": "5305063d1c5e8c4ba3688b8266e8b040",
     "grade": false,
     "grade_id": "cell-a80e14afce3fcfcb",
     "locked": true,
     "schema_version": 3,
     "solution": false,
     "task": false
    }
   },
   "source": [
    "\n",
    "\n",
    "## Saving and Submitting Assignments\n",
    "\n",
    "As you create or edit a Jupyter Notebook, you can save your work by clicking `File` $\\rightarrow$ `Save and Checkpoint` (or `[Ctrl]` + `[s]`). This will save your notebook on the Jupyterhub server in the cloud. To download a notebook to your own computer, select `File` $\\rightarrow$ `Download as` $\\rightarrow$ `Notebook (.ipynb)`. \n",
    "\n",
    "It is **HIGHLY RECOMMENDED** to keep at least 2 copies of each notebook in at least 2 locations (e.g. one on the JupyterHub server and one on your personal laptop) to prevent losing work.\n",
    "\n",
    "To hand in an assignment, download your final copy of your Jupyter Notebook as an `.ipynb` file AND as a `.pdf` file and upload it on Canvas under the link in Assignments to the week 2 lab.\n",
    "\n",
    "```{code-cell} ipython3\n",
    "\n",
    "```"
   ]
  }
 ],
 "metadata": {
  "kernelspec": {
   "display_name": "Python 3 (ipykernel)",
   "language": "python",
   "name": "python3"
  },
  "language_info": {
   "codemirror_mode": {
    "name": "ipython",
    "version": 3
   },
   "file_extension": ".py",
   "mimetype": "text/x-python",
   "name": "python",
   "nbconvert_exporter": "python",
   "pygments_lexer": "ipython3",
   "version": "3.10.5"
  }
 },
 "nbformat": 4,
 "nbformat_minor": 5
}
