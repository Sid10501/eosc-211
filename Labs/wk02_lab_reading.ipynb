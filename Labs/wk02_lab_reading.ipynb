{
 "cells": [
  {
   "cell_type": "markdown",
   "id": "a8a48d3f",
   "metadata": {},
   "source": [
    "# Lab Week 2 Reading\n",
    "EOSC 211 2022\n",
    "\n",
    "## Python Basics\n",
    "\n",
    "\n",
    "**Python** is a *high level programming language,* meaning it is comparatively easy for humans to read. Python programs are executed by a *python interpreter,* which takes python code, reads it into a processor (the CPU on your computer, or in our case, a Jupyterhub server) and returns a result. This process is repeated over and over for each line of code, often taking the result of one line and feeding it into the next. \n",
    "\n",
    "Python is also *open source*, meaning there are no fees to download/use python, and anyone is free to add to the Python code base. This is a major reason for Python's growing popularity in the scientific community, there are many add ons (called *packages*) developed by other scientists specifically for the type of programming we want to do in this course, with more being added every day!\n",
    "\n",
    "\n",
    "### Values and Data Types \n",
    "\n",
    "| Data Type | Example | \n",
    "| --- | --- | \n",
    "| String | `'a', \"AA\",  '2', 'Mercury'` | \n",
    "| Integer | `-2, -1, 0, 1, 2, 5, 10` |\n",
    "| Floating-point number | `1.0, -2.1, 3.1415` | \n",
    "\n",
    "#### Strings\n",
    "Strings are a data-type that contain a sequence or 'string' of letters (although a single character such as `'s'` is still considered a string). Strings can easily be identified by eye as they are enclosed in a set of quotation marks. Strings in Python can be enclosed in single quotes (`''`), double quotes (`\"\"`), or three of each (`'''` or `\"\"\"`). Strings enclosed in triple quotes can span multiple lines. \n",
    "\n",
    "#### Indexing Strings\n",
    "Individual characters in a string can be accessed by their position in the string itself using ***indexing***. In Python, we start counting from zero, so the first letter is at position `0` in the string, the second letter at position `1`, the third at `2`, etc... In practice, this looks like the following example:"
   ]
  },
  {
   "cell_type": "code",
   "execution_count": 1,
   "id": "aa39cd70",
   "metadata": {},
   "outputs": [
    {
     "name": "stdout",
     "output_type": "stream",
     "text": [
      "D\n",
      "t\n",
      "e\n",
      "s\n"
     ]
    }
   ],
   "source": [
    "# make a long string: \n",
    "dept = 'Department of Earth, Ocean and Atmospheric Sciences'\n",
    "\n",
    "print(dept[0])   # character in position 0(1st character)\n",
    "print(dept[5])   # character in position 5 (6th character)\n",
    "print(dept[-2])  # second to last character\n",
    "print(dept[-1])  # last character"
   ]
  },
  {
   "cell_type": "markdown",
   "id": "56675dff",
   "metadata": {},
   "source": [
    "In addition to indexing, strings support **slicing**, which allows the user to extract a subset of the string between some start and stop indices. In slicing, the first index is always included, and the second index is always excluded."
   ]
  },
  {
   "cell_type": "code",
   "execution_count": 2,
   "id": "509e8957",
   "metadata": {},
   "outputs": [
    {
     "name": "stdout",
     "output_type": "stream",
     "text": [
      "Earth\n"
     ]
    }
   ],
   "source": [
    "print(dept[14:19])  # characters from position 14 (inclusive) to position 19 (exclusive)"
   ]
  },
  {
   "cell_type": "markdown",
   "id": "79cdedde",
   "metadata": {},
   "source": [
    "There is also useful default behaviour if the first or last index is omitted:"
   ]
  },
  {
   "cell_type": "code",
   "execution_count": 3,
   "id": "f78cba55",
   "metadata": {},
   "outputs": [
    {
     "name": "stdout",
     "output_type": "stream",
     "text": [
      "Earth, Ocean and Atmospheric Sciences\n",
      "Department\n"
     ]
    }
   ],
   "source": [
    "print(dept[14:])  # omitting the last index slices: prints from 14th character (inclusive) to the end \n",
    "print(dept[:10])  # omitting first index slices: prints from first character (inclusive) to the tenth (exclusive)"
   ]
  },
  {
   "cell_type": "markdown",
   "id": "0e0d71b3",
   "metadata": {},
   "source": [
    "**Note:** Indexing in *lists* and *tuples* follows all the same rules as for strings (see sections below for Lists and Tuples).\n",
    "\n",
    "\n",
    "#### Numerical data types\n",
    "The *integer* data type represents whole numbers (meaning they can be written without a fractional component) that can be positive, negative, or zero. The number `1` is an integer, while `1.0` is not because of the presence of the decimal point. \n",
    "\n",
    "The *Floating point* data type represents numbers which include a decimal point. \n",
    "\n",
    "If you are unsure of which data type a variable falls into, you can use the built-in function `type()` to check and the interpreter will relay back to you what data type the input is. For example:"
   ]
  },
  {
   "cell_type": "code",
   "execution_count": 4,
   "id": "c62e05e4",
   "metadata": {},
   "outputs": [
    {
     "data": {
      "text/plain": [
       "str"
      ]
     },
     "execution_count": 4,
     "metadata": {},
     "output_type": "execute_result"
    }
   ],
   "source": [
    "type('Hello World!')"
   ]
  },
  {
   "cell_type": "code",
   "execution_count": 5,
   "id": "6cfaba4f",
   "metadata": {},
   "outputs": [
    {
     "data": {
      "text/plain": [
       "int"
      ]
     },
     "execution_count": 5,
     "metadata": {},
     "output_type": "execute_result"
    }
   ],
   "source": [
    "type(1)"
   ]
  },
  {
   "cell_type": "code",
   "execution_count": 6,
   "id": "464fa164",
   "metadata": {},
   "outputs": [
    {
     "data": {
      "text/plain": [
       "float"
      ]
     },
     "execution_count": 6,
     "metadata": {},
     "output_type": "execute_result"
    }
   ],
   "source": [
    "type(3.1415)"
   ]
  },
  {
   "cell_type": "markdown",
   "id": "1958246f",
   "metadata": {},
   "source": [
    "### Type casting\n",
    "Occasionally we want to convert between `int`, `float` and `str` data types. To do this, we use *type converter functions* `int()`, `float()` and `str()`. Like the `print()` and `type()` functions we've seen above, these are type converters are Python *built-in* functions that will come in useful when programming. \n",
    "\n",
    "The `int()` function converts the provided argument, either a floating point number or syntactically correct string into an integer data type."
   ]
  },
  {
   "cell_type": "code",
   "execution_count": 7,
   "id": "80458dc8",
   "metadata": {},
   "outputs": [
    {
     "data": {
      "text/plain": [
       "1"
      ]
     },
     "execution_count": 7,
     "metadata": {},
     "output_type": "execute_result"
    }
   ],
   "source": [
    "int(1.6)"
   ]
  },
  {
   "cell_type": "code",
   "execution_count": 8,
   "id": "fa62d2ad",
   "metadata": {},
   "outputs": [
    {
     "data": {
      "text/plain": [
       "2022"
      ]
     },
     "execution_count": 8,
     "metadata": {},
     "output_type": "execute_result"
    }
   ],
   "source": [
    "int('2022')"
   ]
  },
  {
   "cell_type": "markdown",
   "id": "4f38c7c1",
   "metadata": {},
   "source": [
    "Both of the above cells return an `int` data type, the first converting from `float` to `int` and the second cell converting from `str` to `int`. For floating point numbers, the `int()` type converter function discards the decimal portion of the number.\n",
    "\n",
    "Similarly, the `float()` type converter function converts it's argument, either an integer or syntactically correct string to a floating point data type. `float()` also accepts strings `nan` and `inf` with an optional prefix `-` or `+` for Not a Number (NaN) and positive or negative infinity."
   ]
  },
  {
   "cell_type": "code",
   "execution_count": 9,
   "id": "8e534e54",
   "metadata": {},
   "outputs": [
    {
     "data": {
      "text/plain": [
       "1.0"
      ]
     },
     "execution_count": 9,
     "metadata": {},
     "output_type": "execute_result"
    }
   ],
   "source": [
    "float(1)"
   ]
  },
  {
   "cell_type": "code",
   "execution_count": 10,
   "id": "56674904",
   "metadata": {},
   "outputs": [
    {
     "data": {
      "text/plain": [
       "2.718"
      ]
     },
     "execution_count": 10,
     "metadata": {},
     "output_type": "execute_result"
    }
   ],
   "source": [
    "float('2.718')"
   ]
  },
  {
   "cell_type": "markdown",
   "id": "bd9df132",
   "metadata": {},
   "source": [
    "The above cells return a `float` data type, the first converting from `int` to `float` and the second cell converting from `str` to `float`.\n",
    "\n",
    "Both the `int` and `float` type converter functions will throw an error if attempting to convert a syntactically incorrect string to the respective integer or floating point data types. \n",
    "\n",
    "Finally, the `str()` type converter function converts its argument to a string data type:"
   ]
  },
  {
   "cell_type": "code",
   "execution_count": 11,
   "id": "9afb4e4c",
   "metadata": {},
   "outputs": [
    {
     "data": {
      "text/plain": [
       "'1'"
      ]
     },
     "execution_count": 11,
     "metadata": {},
     "output_type": "execute_result"
    }
   ],
   "source": [
    "str(1)"
   ]
  },
  {
   "cell_type": "code",
   "execution_count": 12,
   "id": "9095471f",
   "metadata": {},
   "outputs": [
    {
     "data": {
      "text/plain": [
       "'2.718'"
      ]
     },
     "execution_count": 12,
     "metadata": {},
     "output_type": "execute_result"
    }
   ],
   "source": [
    "str(2.718)"
   ]
  },
  {
   "cell_type": "markdown",
   "id": "f1909cfc",
   "metadata": {},
   "source": [
    "### Math in Python\n",
    "\n",
    "The Python core contains functionality for doing basic math. Later in the course, we will learn how to *import* further functionality for doing not-so-basic math. The syntax for math in Python is summarized below:\n",
    "\n",
    "| Operator | Description | Example | Result |\n",
    "| --- | --- | --- | --- |\n",
    "| ``` + ``` | addition | ```2 + 3 ``` | ```5``` |\n",
    "| ``` - ``` | subtraction | ```8 - 6 ``` | ```2``` |\n",
    "| ``` - ``` | negative number | ```-4``` | ```-4``` |\n",
    "| ``` * ``` | multiplication | ``` 5 * 2 ``` | ``` 10 ``` |\n",
    "| ``` / ``` | division | ``` 6 / 3 ``` | ``` 2 ``` |\n",
    "| ``` ** ```| raises a number to a power | ``` 10**2 ``` | ``` 100 ``` |\n",
    "| ``` // ```| floor division: division returning the nearest integer | ``` 100//9 ``` | ```11``` |\n",
    "| ``` %  ```| modulo: returns the remainder after division | ``` 100%9 ``` | ``` 1 ``` |\n",
    "\n",
    "For more complex calculations involving several operators, the python interpreter will perform calculations in the order BEDMAS (brackets, exponents, division/multiplication, addition/subtraction), just like you would do by hand."
   ]
  },
  {
   "cell_type": "markdown",
   "id": "e15efb8b",
   "metadata": {},
   "source": [
    "### Math With Variables\n",
    "\n",
    "Just as we can print **values** to the screen, we can assign and reference **variables** within a program. A variable is a *name* that refers to a *value* and is initiated through an **assignment statement**. For example, the circumference $C$ of a circle is given:\n",
    "\n",
    "$$\n",
    "C = 2\\pi r\n",
    "$$\n",
    "\n",
    "where $r$ is the radius of the circle and $\\pi = 3.14...$. We can code this equation in python by assigning the variable named `circumference` to a calculated value like so:"
   ]
  },
  {
   "cell_type": "code",
   "execution_count": 13,
   "id": "d4d75ea3",
   "metadata": {},
   "outputs": [
    {
     "name": "stdout",
     "output_type": "stream",
     "text": [
      "40009.880000000005\n",
      "The planet has circumference = 40009.88 km\n"
     ]
    }
   ],
   "source": [
    "# code snippet to calculate the circumference of a spherical planet given some radius: \n",
    "radius_of_planet = 6371  # [km]\n",
    "pi = 3.14 \n",
    "\n",
    "# calculate the circumference of a sphere using the provided equation:\n",
    "circumference = 2 * pi * radius_of_planet\n",
    "\n",
    "# print the output to the screen:\n",
    "print(circumference)\n",
    "\n",
    "# print the output in a nicely formatted string: \n",
    "print(f'The planet has {circumference = :.2f} km')"
   ]
  },
  {
   "cell_type": "markdown",
   "id": "830a8543",
   "metadata": {},
   "source": [
    "This example makes three assignments. The first assigns the integer value `6371` to the variable named `radius_of_planet`. The second assigns the floating-point value of `3.14` to the variable `pi`,  and the third assigns the product of the multiplication to the variable `circumference`.\n",
    "\n",
    "\n",
    "### Lists\n",
    "Lists are a built-in compound *iterable* data type which are composed of an ordered collection of values. Values in a list are referred to as *items* or *elements*.  Lists can be written as a list of comma-separated values enclosed in square brackets or using the `list()` constructor function. Lists are ordered and mutable, meaning that they maintain the order of their elements, and that they are able to be changed after they are created. Lists can contain items of different data types (meaning any combination of numerical or string data types)."
   ]
  },
  {
   "cell_type": "code",
   "execution_count": 14,
   "id": "d569e049",
   "metadata": {},
   "outputs": [],
   "source": [
    "primes = [0, 1, 3, 5, 7, 11]  # a list of integers\n",
    "\n",
    "the_date = ['Monday', 'June', 27, 2020]  # a list of strings and integers"
   ]
  },
  {
   "cell_type": "markdown",
   "id": "30b0c195",
   "metadata": {},
   "source": [
    "#### List Indexing\n",
    "Given that lists are *ordered*, we require methods of accessing elements in a list. Items or elements in a list can be accessed by their index (or 'position') in the list, as we saw for strings earlier.   \n",
    "\n",
    "Say we want to access the fourth number in the list `primes` which was initialized in the section above. Remembering that indexing in Python starts as `0, 1, 2, 3...`, the *fourth* element in the `primes` list therefore has index `3` and can be accessed as:"
   ]
  },
  {
   "cell_type": "code",
   "execution_count": 15,
   "id": "9226e659",
   "metadata": {},
   "outputs": [
    {
     "name": "stdout",
     "output_type": "stream",
     "text": [
      "The fourth item in primes is 5.\n"
     ]
    }
   ],
   "source": [
    "fourth = primes[3]  # the fourth item in the primes list has index 3\n",
    "\n",
    "print(f'The fourth item in primes is {fourth}.')"
   ]
  },
  {
   "cell_type": "markdown",
   "id": "4085af01",
   "metadata": {},
   "source": [
    "Like with strings, *slicing* allows us to extract elements from a list between start and stop positions. Slicing for lists (and tuples) follow the same rules as for strings. e.g."
   ]
  },
  {
   "cell_type": "code",
   "execution_count": 16,
   "id": "193cd8ca",
   "metadata": {},
   "outputs": [
    {
     "name": "stdout",
     "output_type": "stream",
     "text": [
      "[3, 5, 7]\n",
      "[5, 7, 11]\n",
      "[0, 1, 3]\n"
     ]
    }
   ],
   "source": [
    "# primes = [0, 1, 3, 5, 7, 11]  # a list of integers\n",
    "\n",
    "print(primes[2:5])  # slice from index 2 (inclusive) to index 5 (exclusive)\n",
    "print(primes[3:])  # slice from index 3 (inclusive) to the end \n",
    "print(primes[:3])  # slice from index 0 (inclusive) to 3 (exclusive)"
   ]
  },
  {
   "cell_type": "markdown",
   "id": "55a8a136",
   "metadata": {},
   "source": [
    "#### List Methods\n",
    "Lists are *mutable* meaning that they can be changed after being created. These changes are facilitated by several built-in list *methods* shown in the below table. \n",
    "\n",
    "| Method | Function |\n",
    "| --- | --- | \n",
    "| .append() | Adds an element to the end of the list | \n",
    "| .clear()| Deletes the contents of the list | \n",
    "| .copy()| Returns a copy of the list|\n",
    "| .count()| Returns a count of elements with an input value|\n",
    "| .extend() | Adds elements of an iterable to a list |\n",
    "| .index() | Returns the first index in the list matching an input value|\n",
    "| .insert() | Inserts an element at a specified position|\n",
    "| .pop() | Removes the element at the specified position |\n",
    "| .remove() | Removes the first element with a specified value |\n",
    "| .sort()| Sorts the list |\n",
    "| .reverse() | Reverses the list in place |\n",
    "\n",
    "\n",
    "Methods are accessed by using a dot-notation after the variable name like so:"
   ]
  },
  {
   "cell_type": "code",
   "execution_count": 17,
   "id": "7a9902ca",
   "metadata": {},
   "outputs": [
    {
     "name": "stdout",
     "output_type": "stream",
     "text": [
      "0.  primes:  [0, 1, 3, 5, 7, 11]\n",
      "1.  primes after appending: [0, 1, 3, 5, 7, 11, 15]\n",
      "2.  primes copy: [0, 1, 3, 5, 7, 11, 15]\n",
      "3.  after primes_cp.reverse(): [15, 11, 7, 5, 3, 1, 0]\n",
      "4a. after primes.remove(0): [1, 3, 5, 7, 11, 15]\n",
      "4b. after primes_cp.pop(-1): [15, 11, 7, 5, 3, 1]\n"
     ]
    }
   ],
   "source": [
    "primes = [0, 1, 3, 5, 7, 11]  # a list of integers\n",
    "print('0.  primes: ', primes)\n",
    "# 1. append the integer `15` to the end of the list\n",
    "primes.append(15)\n",
    "print('1.  primes after appending:', primes)\n",
    "\n",
    "# 2. make a copy of the list: \n",
    "primes_cp = primes.copy()\n",
    "print('2.  primes copy:', primes_cp)\n",
    "\n",
    "# 3. reverse the copied list: \n",
    "primes_cp.reverse()\n",
    "print('3.  after primes_cp.reverse():', primes_cp)\n",
    "\n",
    "\n",
    "# 4. zero isn't a prime number so lets remove it from the list: \n",
    "\n",
    "# 4a. Remove from original `primes` list based on item *value*: \n",
    "#     - Use .remove() method: \n",
    "primes.remove(0)  # a. remove the first occurence of `0` from the list\n",
    "print('4a. after primes.remove(0):', primes)\n",
    "\n",
    "# 4b. Remove from reversed copy `primes_cp` based on item *index*:\n",
    "#    - Use .pop() method: \n",
    "#    - Note that the zero in `primes_cp` occurs at the last position in the list. \n",
    "primes_cp.pop(-1)  # b. remove the last element from the list \n",
    "print('4b. after primes_cp.pop(-1):', primes_cp)"
   ]
  },
  {
   "cell_type": "markdown",
   "id": "7c00efff",
   "metadata": {},
   "source": [
    "### Tuples\n",
    "Tuples are another data structure which are used to group together collections of *items* or *elements*. Like lists, tuples are *ordered* meaning that the order of their elements does not change but unlike lists, tuples are *immutable* (meaning they are not able to be changed after they are created). Indexing for tuples follows all the same rules as strings and lists (detailed above).\n",
    "\n",
    "As a result of tuples being immutable, there are only a couple built-in methods for tuples: \n",
    "\n",
    "| Method | Function \n",
    "| --- | --- | \n",
    "| .count()| Returns a count of elements with an input value|\n",
    "| .index() | Returns the first index in the tuple matching an input value|"
   ]
  },
  {
   "cell_type": "markdown",
   "id": "2fe495ec",
   "metadata": {},
   "source": [
    "Tuples are created by enclosing comma separated values in round parantheses or by using the `tuple()` constructor function."
   ]
  },
  {
   "cell_type": "code",
   "execution_count": 18,
   "id": "b505c04d",
   "metadata": {},
   "outputs": [
    {
     "name": "stdout",
     "output_type": "stream",
     "text": [
      "<class 'tuple'> <class 'tuple'>\n"
     ]
    }
   ],
   "source": [
    "squares = (2,4,9,16)  # a tuple with 4 elements\n",
    "single = (1, )  # a tuple with 1 element (note the comma)\n",
    "\n",
    "print(type(squares), type(single))"
   ]
  },
  {
   "cell_type": "markdown",
   "id": "7175e739",
   "metadata": {},
   "source": [
    "Tuples are immutable, meaning they cannot be changed after initialization: \n",
    "\n",
    "```python\n",
    ">>> squares = (2,4,9,16)  # a tuple with 4 elements\n",
    ">>> squares[3] = 0\n",
    "Traceback (most recent call last):\n",
    "  File \"<stdin>\", line 1, in <module>\n",
    "TypeError: 'tuple' object does not support item assignment\n",
    "\n",
    "```"
   ]
  }
 ],
 "metadata": {
  "jupytext": {
   "formats": "ipynb,md:myst"
  },
  "kernelspec": {
   "display_name": "Python 3 (ipykernel)",
   "language": "python",
   "name": "python3"
  },
  "language_info": {
   "codemirror_mode": {
    "name": "ipython",
    "version": 3
   },
   "file_extension": ".py",
   "mimetype": "text/x-python",
   "name": "python",
   "nbconvert_exporter": "python",
   "pygments_lexer": "ipython3",
   "version": "3.10.5"
  }
 },
 "nbformat": 4,
 "nbformat_minor": 5
}
